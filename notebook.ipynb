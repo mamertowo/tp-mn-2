{
 "cells": [
  {
   "cell_type": "code",
   "execution_count": 1,
   "metadata": {},
   "outputs": [],
   "source": [
    "from math import sqrt\n",
    "import pandas as pd\n",
    "import numpy as np\n",
    "import matplotlib.pyplot as plt"
   ]
  },
  {
   "cell_type": "markdown",
   "metadata": {},
   "source": [
    "# Datos"
   ]
  },
  {
   "cell_type": "code",
   "execution_count": 2,
   "metadata": {
    "vscode": {
     "languageId": "shellscript"
    }
   },
   "outputs": [],
   "source": [
    "!wget -q -O datos_retocados.csv \"https://www.dropbox.com/scl/fi/xnztguety6brdy7t2lfge/wiki_movie_plots_deduped_sample.csv?rlkey=7m867bh7ruilw66qlh7ozl9g4&dl=1\""
   ]
  },
  {
   "cell_type": "code",
   "execution_count": 97,
   "metadata": {},
   "outputs": [],
   "source": [
    "tabla = pd.read_csv(\"datos_retocados.csv\")"
   ]
  },
  {
   "cell_type": "code",
   "execution_count": 98,
   "metadata": {},
   "outputs": [],
   "source": [
    "tokens = np.hstack(tabla[\"tokens\"].apply(lambda x: x.split()).values)\n",
    "unique_tokens = pd.Series(tokens).value_counts().index[:1000].values\n",
    "unique_tokens_dict = dict(zip(unique_tokens, range(len(unique_tokens))))\n",
    "\n",
    "tabla_matriz = np.zeros((len(tabla), len(unique_tokens)), dtype=int)\n",
    "for i, row in tabla.iterrows():\n",
    "    for token in row[\"tokens\"].split():\n",
    "        if unique_tokens_dict.get(token,False)!=False:\n",
    "            tabla_matriz[i, unique_tokens_dict[token]] += 1"
   ]
  },
  {
   "cell_type": "code",
   "execution_count": 99,
   "metadata": {},
   "outputs": [],
   "source": [
    "train_tabla = tabla.loc[tabla[\"split\"] == \"train\"].to_numpy()\n",
    "train_generos = train_tabla[:, 5]\n",
    "train_vectores = np.zeros((len(train_generos), len(unique_tokens)), dtype=int)\n",
    "for i in range(len(train_tabla)):\n",
    "    for token in train_tabla[i, 8].split():\n",
    "        if unique_tokens_dict.get(token,False) != False:\n",
    "            train_vectores[i, unique_tokens_dict[token]] += 1"
   ]
  },
  {
   "cell_type": "markdown",
   "metadata": {},
   "source": [
    "# KNN"
   ]
  },
  {
   "cell_type": "code",
   "execution_count": 100,
   "metadata": {},
   "outputs": [],
   "source": [
    "def productoPunto(vectorA, vectorB):\n",
    "    producto = 0\n",
    "    for i in range(len(vectorA)) : \n",
    "       producto = vectorA[i]*vectorB[i] + producto\n",
    "    return producto \n",
    "\n",
    "def norma(vector):\n",
    "    valor = 0\n",
    "    for i in range(len(vector)): \n",
    "        valor = vector[i]**2 + valor\n",
    "    valor = sqrt(valor)\n",
    "    return valor    \n",
    "\n",
    "def distanciaCoseno(vectorA, vectorB):\n",
    "    distancia = 1 - (productoPunto(vectorA,vectorB) / (norma(vectorA) * norma(vectorB)))\n",
    "    return distancia"
   ]
  },
  {
   "cell_type": "code",
   "execution_count": 101,
   "metadata": {},
   "outputs": [],
   "source": [
    "def KVecinos(vector, modelo_generos, modelo_vectores, k):\n",
    "    vecinos = []\n",
    "    for i in range(len(modelo_vectores)): \n",
    "        vecinos.append((modelo_generos[i], distanciaCoseno(modelo_vectores[i], vector)))\n",
    "      \n",
    "    vecinos = sorted(vecinos, key=lambda tup: tup[1])\n",
    "    kvecinos = []\n",
    "    for i in range(k):\n",
    "        kvecinos.append(vecinos[i][0])\n",
    "    return kvecinos\n",
    "\n",
    "def KNN(vector, modelo_generos, modelo_vectores, k):\n",
    "    aparicionesDeClase = [0,0,0,0]\n",
    "    clases = [\"western\",\"science fiction\",\"romance\",\"crime\"]\n",
    "\n",
    "    kvecinos = KVecinos(vector, modelo_generos, modelo_vectores, k)\n",
    "\n",
    "    for vecino in kvecinos:\n",
    "        for j in range(4):\n",
    "            if vecino == clases[j]:\n",
    "                aparicionesDeClase[j] = aparicionesDeClase[j] + 1\n",
    "    \n",
    "    maxIndice = 0\n",
    "    maxApariciones = 0       \n",
    "    for i in range(len(aparicionesDeClase)):\n",
    "        if(aparicionesDeClase[i] > maxApariciones):\n",
    "            maxIndice = i\n",
    "            maxApariciones = aparicionesDeClase[i]\n",
    "    return clases[maxIndice]"
   ]
  },
  {
   "cell_type": "code",
   "execution_count": 102,
   "metadata": {},
   "outputs": [
    {
     "name": "stdout",
     "output_type": "stream",
     "text": [
      "Esperado: crime Resultado: crime\n",
      "Esperado: crime Resultado: science fiction\n",
      "Esperado: crime Resultado: crime\n",
      "Esperado: crime Resultado: western\n",
      "Esperado: crime Resultado: crime\n",
      "Esperado: crime Resultado: western\n",
      "Esperado: crime Resultado: crime\n",
      "Esperado: crime Resultado: science fiction\n",
      "Esperado: crime Resultado: romance\n",
      "Esperado: crime Resultado: crime\n",
      "Esperado: crime Resultado: romance\n",
      "Esperado: crime Resultado: crime\n",
      "Esperado: crime Resultado: science fiction\n",
      "Esperado: crime Resultado: crime\n",
      "Esperado: crime Resultado: western\n",
      "Esperado: crime Resultado: science fiction\n",
      "Esperado: crime Resultado: crime\n",
      "Esperado: crime Resultado: romance\n",
      "Esperado: crime Resultado: crime\n"
     ]
    }
   ],
   "source": [
    "modelo_generos = train_generos[19:]\n",
    "modelo_vectores = train_vectores[19:]\n",
    "for i in range(19):\n",
    "    vector = train_vectores[i]\n",
    "    genero_esperado = train_generos[i]\n",
    "    print(\"Esperado: \" + genero_esperado + \" Resultado: \" + KNN(vector, modelo_generos, modelo_vectores, 10))"
   ]
  },
  {
   "cell_type": "code",
   "execution_count": null,
   "metadata": {},
   "outputs": [],
   "source": [
    "def norma(vector):\n",
    "    return np.linalg.norm(vector)\n",
    "\n",
    "def distanciaCoseno(vectorA, vectorB):\n",
    "    return 1 - (np.dot(vectorA, vectorB) / (norma(vectorA) * norma(vectorB)))"
   ]
  },
  {
   "cell_type": "code",
   "execution_count": null,
   "metadata": {},
   "outputs": [],
   "source": [
    "def KVecinos(vector, modelo_generos, modelo_vectores, k):\n",
    "    vecinos = []\n",
    "    for i in range(len(modelo_vectores)): \n",
    "        vecinos.append((modelo_generos[i], distanciaCoseno(modelo_vectores[i], vector)))\n",
    "        \n",
    "    vecinos = vecinos.sort(key=lambda tup: tup[1])    \n",
    "    kvecinos = vecinos[:k]\n",
    "    return kvecinos\n",
    "\n",
    "\n",
    "def KNN(vector, modelo_generos, modelo_vectores, k):\n",
    "    clases = [\"western\", \"science fiction\", \"romance\", \"crime\"]\n",
    "    aparicionesDeClase = np.zeros(len(clases))\n",
    "\n",
    "    kvecinos = KVecinos(vector, modelo_generos, modelo_vectores, k)\n",
    "\n",
    "    for vecino, _ in kvecinos:\n",
    "        clase_index = clases.index(vecino[0]) #clase\n",
    "        aparicionesDeClase[clase_index] += 1\n",
    "\n",
    "    maxIndice = np.argmax(aparicionesDeClase)\n",
    "    return clases[maxIndice]"
   ]
  }
 ],
 "metadata": {
  "kernelspec": {
   "display_name": ".venv",
   "language": "python",
   "name": "python3"
  },
  "language_info": {
   "codemirror_mode": {
    "name": "ipython",
    "version": 3
   },
   "file_extension": ".py",
   "mimetype": "text/x-python",
   "name": "python",
   "nbconvert_exporter": "python",
   "pygments_lexer": "ipython3",
   "version": "3.12.3"
  }
 },
 "nbformat": 4,
 "nbformat_minor": 2
}
