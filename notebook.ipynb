{
 "cells": [
  {
   "cell_type": "code",
   "execution_count": 1,
   "metadata": {},
   "outputs": [
    {
     "name": "stdout",
     "output_type": "stream",
     "text": [
      "Note: you may need to restart the kernel to use updated packages.\n"
     ]
    }
   ],
   "source": [
    "%pip install git+https://github.com/aldanor/ipybind.git -qqq"
   ]
  },
  {
   "cell_type": "code",
   "execution_count": 1,
   "metadata": {},
   "outputs": [
    {
     "data": {
      "application/javascript": "\n    require(['notebook/js/codecell'], function(cc) {\n        cc.CodeCell.options_default.highlight_modes['magic_text/x-c++src'] =\n            {reg: [/^\\s*%%pybind11/]};\n    });\n    "
     },
     "metadata": {},
     "output_type": "display_data"
    },
    {
     "data": {
      "text/html": [
       "\n",
       "    <style>\n",
       "    .cm-s-ipython span.cm-variable-3 {\n",
       "        color: #208ffb;\n",
       "        font-weight: bold;\n",
       "    }\n",
       "    </style>\n",
       "    "
      ]
     },
     "metadata": {},
     "output_type": "display_data"
    }
   ],
   "source": [
    "%load_ext ipybind"
   ]
  },
  {
   "cell_type": "code",
   "execution_count": 2,
   "metadata": {},
   "outputs": [],
   "source": [
    "from math import sqrt\n",
    "import pandas as pd\n",
    "import numpy as np\n",
    "import matplotlib.pyplot as plt\n",
    "import scipy"
   ]
  },
  {
   "cell_type": "markdown",
   "metadata": {},
   "source": [
    "# Datos"
   ]
  },
  {
   "cell_type": "code",
   "execution_count": 128,
   "metadata": {
    "vscode": {
     "languageId": "shellscript"
    }
   },
   "outputs": [
    {
     "name": "stdout",
     "output_type": "stream",
     "text": [
      "E: Could not open lock file /var/lib/dpkg/lock-frontend - open (13: Permission denied)\n",
      "E: Unable to acquire the dpkg frontend lock (/var/lib/dpkg/lock-frontend), are you root?\n"
     ]
    }
   ],
   "source": [
    "!wget -q -O datos_retocados.csv \"https://www.dropbox.com/scl/fi/xnztguety6brdy7t2lfge/wiki_movie_plots_deduped_sample.csv?rlkey=7m867bh7ruilw66qlh7ozl9g4&dl=1\""
   ]
  },
  {
   "cell_type": "code",
   "execution_count": 2,
   "metadata": {},
   "outputs": [],
   "source": [
    "tabla = pd.read_csv(\"datos_retocados.csv\")"
   ]
  },
  {
   "cell_type": "code",
   "execution_count": 17,
   "metadata": {},
   "outputs": [],
   "source": [
    "generos_dict = {\"western\": 0, \"science fiction\": 1, \"romance\": 2, \"crime\": 3}\n",
    "generos_list = [\"western\", \"science fiction\", \"romance\", \"crime\"]"
   ]
  },
  {
   "cell_type": "code",
   "execution_count": 18,
   "metadata": {},
   "outputs": [],
   "source": [
    "tokens = np.hstack(tabla[\"tokens\"].apply(lambda x: x.split()).values)\n",
    "unique_tokens = pd.Series(tokens).value_counts().index[:1000].values\n",
    "unique_tokens_dict = dict(zip(unique_tokens, range(len(unique_tokens))))\n",
    "\n",
    "tabla_matriz = np.zeros((len(tabla), len(unique_tokens)), dtype=int)\n",
    "for i, row in tabla.iterrows():\n",
    "    for token in row[\"tokens\"].split():\n",
    "        if unique_tokens_dict.get(token,False)!=False:\n",
    "            tabla_matriz[i, unique_tokens_dict[token]] += 1"
   ]
  },
  {
   "cell_type": "code",
   "execution_count": 127,
   "metadata": {},
   "outputs": [],
   "source": [
    "train_tabla = tabla.loc[tabla[\"split\"] == \"train\"].to_numpy()\n",
    "train_generos = train_tabla[:, 5]\n",
    "train_generos = [generos_dict[x] for x in train_generos]\n",
    "train_vectores = np.zeros((len(train_generos), len(unique_tokens)), dtype=int)\n",
    "for i in range(len(train_tabla)):\n",
    "    for token in train_tabla[i, 8].split():\n",
    "        if unique_tokens_dict.get(token,False) != False:\n",
    "            train_vectores[i, unique_tokens_dict[token]] += 1\n",
    "\n",
    "# Horrible, preguntar como hacer\n",
    "tempa = []\n",
    "tempb = []\n",
    "for i in range(int(len(train_generos)/4)):\n",
    "    for j in range(4):\n",
    "        tempa.append(train_generos[i + j*int(len(train_generos)/4)])\n",
    "        tempb.append(train_vectores[i + j*int(len(train_vectores)/4)])\n",
    "train_generos = np.array(tempa)\n",
    "train_vectores = np.array(tempb)\n"
   ]
  },
  {
   "cell_type": "markdown",
   "metadata": {},
   "source": [
    "# KNN"
   ]
  },
  {
   "cell_type": "code",
   "execution_count": 108,
   "metadata": {},
   "outputs": [],
   "source": [
    "def productoPunto(vectorA, vectorB):\n",
    "    producto = 0\n",
    "    for i in range(len(vectorA)) : \n",
    "       producto = vectorA[i]*vectorB[i] + producto\n",
    "    return producto \n",
    "\n",
    "def norma(vector):\n",
    "    valor = 0\n",
    "    for i in range(len(vector)): \n",
    "        valor = vector[i]**2 + valor\n",
    "    valor = sqrt(valor)\n",
    "    return valor    \n",
    "\n",
    "def distanciaCoseno(vectorA, vectorB):\n",
    "    distancia = 1 - (productoPunto(vectorA,vectorB) / (norma(vectorA) * norma(vectorB)))\n",
    "    return distancia"
   ]
  },
  {
   "cell_type": "code",
   "execution_count": 109,
   "metadata": {},
   "outputs": [],
   "source": [
    "def KVecinos(vector, modelo_generos, modelo_vectores, k):\n",
    "    vecinos = []\n",
    "    for i in range(len(modelo_vectores)): \n",
    "        vecinos.append((modelo_generos[i], distanciaCoseno(modelo_vectores[i], vector)))\n",
    "      \n",
    "    vecinos = sorted(vecinos, key=lambda tup: tup[1])\n",
    "    kvecinos = []\n",
    "    for i in range(k):\n",
    "        kvecinos.append(vecinos[i][0])\n",
    "    return kvecinos\n",
    "\n",
    "def KNN(vector, modelo_generos, modelo_vectores, k):\n",
    "    aparicionesDeClase = [0,0,0,0]\n",
    "\n",
    "    kvecinos = KVecinos(vector, modelo_generos, modelo_vectores, k)\n",
    "\n",
    "    for vecino in kvecinos:\n",
    "        aparicionesDeClase[vecino] = aparicionesDeClase[vecino] + 1\n",
    "    \n",
    "    maxIndice = 0\n",
    "    maxApariciones = 0       \n",
    "    for i in range(len(aparicionesDeClase)):\n",
    "        if(aparicionesDeClase[i] > maxApariciones):\n",
    "            maxIndice = i\n",
    "            maxApariciones = aparicionesDeClase[i]\n",
    "    return generos_list[maxIndice]"
   ]
  },
  {
   "cell_type": "code",
   "execution_count": 110,
   "metadata": {},
   "outputs": [],
   "source": [
    "modelo_generos = train_generos[19:]\n",
    "modelo_vectores = train_vectores[19:]\n",
    "for i in range(19):\n",
    "    vector = train_vectores[i]\n",
    "    genero_esperado = generos_list[train_generos[i]]\n",
    "    print(\"Esperado: \" + genero_esperado + \" Resultado: \" + KNN(vector, modelo_generos, modelo_vectores, 10))"
   ]
  },
  {
   "cell_type": "code",
   "execution_count": 111,
   "metadata": {},
   "outputs": [],
   "source": [
    "def normaNumpy(vector):\n",
    "    return np.linalg.norm(vector)\n",
    "\n",
    "def distanciaCosenoNumpy(vectorA, vectorB):\n",
    "    return 1 - (np.dot(vectorA, vectorB) / (normaNumpy(vectorA) * normaNumpy(vectorB)))"
   ]
  },
  {
   "cell_type": "code",
   "execution_count": 112,
   "metadata": {},
   "outputs": [],
   "source": [
    "def KVecinosNumpy(vector, modelo_generos, modelo_vectores, k):\n",
    "    vecinos = np.zeros((len(modelo_generos), 2))\n",
    "    vecinos[:, 0] = modelo_generos\n",
    "    vecinos[:, 1] = [distanciaCosenoNumpy(vector, x) for x in modelo_vectores]\n",
    "        \n",
    "    vecinos = vecinos[vecinos[:, 1].argsort()]\n",
    "    kvecinos = np.array(vecinos[:k, 0], dtype=int)\n",
    "    return kvecinos\n",
    "\n",
    "\n",
    "def KNNNumpy(vector, modelo_generos, modelo_vectores, k):\n",
    "    kvecinos = KVecinosNumpy(vector, modelo_generos, modelo_vectores, k)\n",
    "    return scipy.stats.mode(kvecinos).mode"
   ]
  },
  {
   "cell_type": "code",
   "execution_count": 113,
   "metadata": {},
   "outputs": [],
   "source": [
    "modelo_generos = train_generos[19:]\n",
    "modelo_vectores = train_vectores[19:]\n",
    "for i in range(19):\n",
    "    vector = train_vectores[i]\n",
    "    genero_esperado = generos_list[train_generos[i]]\n",
    "    print(\"Esperado: \" + genero_esperado + \" Resultado: \" + generos_list[KNNNumpy(vector, modelo_generos, modelo_vectores, 10)])"
   ]
  },
  {
   "cell_type": "markdown",
   "metadata": {},
   "source": [
    "# Método de la potencia"
   ]
  },
  {
   "cell_type": "raw",
   "metadata": {
    "vscode": {
     "languageId": "raw"
    }
   },
   "source": [
    "                            ╱|、\n",
    "                          (˚ˎ 。7  \n",
    "                           |、˜〵          \n",
    "                          じしˍ,)ノ\n",
    "ฅ^•ﻌ•^ฅ\n",
    "\n",
    "A\n",
    "y = vec_random\n",
    "\n",
    "for (i = 1...thresh)\n",
    "    y = Ay / |Ay|"
   ]
  },
  {
   "cell_type": "code",
   "execution_count": 62,
   "metadata": {},
   "outputs": [],
   "source": [
    "%%pybind11\n",
    "\n",
    "#include <iostream>\n",
    "#include <pybind11/numpy.h>\n",
    "#include <eigen3/Eigen/Dense>\n",
    "#include <pybind11/eigen.h>\n",
    "#include <math.h>\n",
    "\n",
    "using namespace std;\n",
    "using namespace Eigen;\n",
    "\n",
    "PYBIND11_PLUGIN(metodo_potencia) {\n",
    "    py::module m(\"metodo_potencia\");\n",
    "    m.def(\"calcular_autovector\", [](const MatrixXd& matriz) {\n",
    "        VectorXd autovec = VectorXd::Random(matriz.cols()) * 10;\n",
    "        cout << autovec << endl;\n",
    "    });\n",
    "    return m.ptr();\n",
    "}"
   ]
  },
  {
   "cell_type": "code",
   "execution_count": 67,
   "metadata": {},
   "outputs": [
    {
     "name": "stdout",
     "output_type": "stream",
     "text": [
      "9.41268\n",
      "8.04416\n",
      " 7.0184\n"
     ]
    }
   ],
   "source": [
    "A = np.array([[7., 2., 3.],\n",
    "              [0., 2., 0.],\n",
    "              [-6., -2., -2.]], dtype=np.float64)\n",
    "calcular_autovector(A)"
   ]
  },
  {
   "cell_type": "markdown",
   "metadata": {},
   "source": [
    "# K-Fold"
   ]
  },
  {
   "cell_type": "code",
   "execution_count": 114,
   "metadata": {},
   "outputs": [],
   "source": [
    "def kfold(generos, vectores, particiones, vecinos):\n",
    "    correctos = 0\n",
    "    tamano_particion = int(len(generos) / particiones)\n",
    "    for i in range(particiones):\n",
    "        azul_start = i * tamano_particion\n",
    "        azul_end = i * tamano_particion + tamano_particion\n",
    "        modelo_generos = np.concatenate((generos[:azul_start], generos[azul_end:]))\n",
    "        modelo_vectores = np.concatenate((vectores[:azul_start], vectores[azul_end:]))\n",
    "        for j in range(azul_start, azul_end):\n",
    "            vector = vectores[j]\n",
    "            genero_esperado = generos[j]\n",
    "            genero_res = KNNNumpy(vector, modelo_generos, modelo_vectores, vecinos)\n",
    "            if genero_esperado == genero_res:\n",
    "                correctos = correctos + 1\n",
    "    return correctos / len(generos)"
   ]
  },
  {
   "cell_type": "code",
   "execution_count": 126,
   "metadata": {},
   "outputs": [],
   "source": [
    "kfold(train_generos, train_vectores, 9, 5)"
   ]
  }
 ],
 "metadata": {
  "kernelspec": {
   "display_name": ".venv",
   "language": "python",
   "name": "python3"
  },
  "language_info": {
   "codemirror_mode": {
    "name": "ipython",
    "version": 3
   },
   "file_extension": ".py",
   "mimetype": "text/x-python",
   "name": "python",
   "nbconvert_exporter": "python",
   "pygments_lexer": "ipython3",
   "version": "3.10.15"
  }
 },
 "nbformat": 4,
 "nbformat_minor": 2
}
