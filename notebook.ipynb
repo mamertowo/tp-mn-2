{
 "cells": [
  {
   "cell_type": "markdown",
   "metadata": {},
   "source": [
    "##### Dependencias"
   ]
  },
  {
   "cell_type": "code",
   "execution_count": 36,
   "metadata": {},
   "outputs": [
    {
     "name": "stdout",
     "output_type": "stream",
     "text": [
      "The ipybind extension is already loaded. To reload it, use:\n",
      "  %reload_ext ipybind\n"
     ]
    }
   ],
   "source": [
    "%load_ext ipybind"
   ]
  },
  {
   "cell_type": "code",
   "execution_count": 37,
   "metadata": {},
   "outputs": [],
   "source": [
    "from math import sqrt\n",
    "import pandas as pd\n",
    "import numpy as np\n",
    "import matplotlib.pyplot as plt\n",
    "import scipy"
   ]
  },
  {
   "cell_type": "markdown",
   "metadata": {},
   "source": [
    "##### Datos"
   ]
  },
  {
   "cell_type": "code",
   "execution_count": 28,
   "metadata": {
    "vscode": {
     "languageId": "shellscript"
    }
   },
   "outputs": [],
   "source": [
    "!wget -q -O datos_retocados.csv \"https://www.dropbox.com/scl/fi/xnztguety6brdy7t2lfge/wiki_movie_plots_deduped_sample.csv?rlkey=7m867bh7ruilw66qlh7ozl9g4&dl=1\""
   ]
  },
  {
   "cell_type": "code",
   "execution_count": 29,
   "metadata": {},
   "outputs": [],
   "source": [
    "tabla = pd.read_csv(\"datos_retocados.csv\")"
   ]
  },
  {
   "cell_type": "code",
   "execution_count": 30,
   "metadata": {},
   "outputs": [],
   "source": [
    "generos_dict = {\"western\": 0, \"science fiction\": 1, \"romance\": 2, \"crime\": 3}\n",
    "generos_list = [\"western\", \"science fiction\", \"romance\", \"crime\"]"
   ]
  },
  {
   "cell_type": "code",
   "execution_count": 80,
   "metadata": {},
   "outputs": [],
   "source": [
    "train_g, train_v = construir_datos_training(tabla, 1000)"
   ]
  },
  {
   "cell_type": "markdown",
   "metadata": {},
   "source": [
    "# KNN"
   ]
  },
  {
   "cell_type": "markdown",
   "metadata": {},
   "source": [
    "##### Python puro"
   ]
  },
  {
   "cell_type": "code",
   "execution_count": 38,
   "metadata": {},
   "outputs": [],
   "source": [
    "def productoPunto(vectorA, vectorB):\n",
    "    producto = 0\n",
    "    for i in range(len(vectorA)) : \n",
    "       producto = vectorA[i]*vectorB[i] + producto\n",
    "    return producto \n",
    "\n",
    "def norma(vector):\n",
    "    valor = 0\n",
    "    for i in range(len(vector)): \n",
    "        valor = vector[i]**2 + valor\n",
    "    valor = sqrt(valor)\n",
    "    return valor    \n",
    "\n",
    "def distanciaCoseno(vectorA, vectorB):\n",
    "    vecA = vectorA - sum(vectorA) / len(vectorA)\n",
    "    vecB = vectorB - sum(vectorB) / len(vectorB)\n",
    "    distancia = 1 - (productoPunto(vecA, vecB) / (norma(vecA) * norma(vecB)))\n",
    "    # preguntar media\n",
    "    return distancia"
   ]
  },
  {
   "cell_type": "code",
   "execution_count": 41,
   "metadata": {},
   "outputs": [],
   "source": [
    "def KVecinos(vector, modelo_generos, modelo_vectores, k):\n",
    "    vecinos = []\n",
    "    for i in range(len(modelo_vectores)): \n",
    "        vecinos.append((modelo_generos[i], distanciaCoseno(modelo_vectores[i], vector)))\n",
    "      \n",
    "    vecinos = sorted(vecinos, key=lambda tup: tup[1])\n",
    "    kvecinos = []\n",
    "    for i in range(k):\n",
    "        kvecinos.append(vecinos[i][0])\n",
    "    return kvecinos\n",
    "\n",
    "def KNN(vector, modelo_generos, modelo_vectores, k):\n",
    "    aparicionesDeClase = [0,0,0,0]\n",
    "\n",
    "    kvecinos = KVecinos(vector, modelo_generos, modelo_vectores, k)\n",
    "\n",
    "    for vecino in kvecinos:\n",
    "        aparicionesDeClase[vecino] = aparicionesDeClase[vecino] + 1\n",
    "    \n",
    "    maxIndice = 0\n",
    "    maxApariciones = 0       \n",
    "    for i in range(len(aparicionesDeClase)):\n",
    "        if(aparicionesDeClase[i] > maxApariciones):\n",
    "            maxIndice = i\n",
    "            maxApariciones = aparicionesDeClase[i]\n",
    "    return generos_list[maxIndice]"
   ]
  },
  {
   "cell_type": "code",
   "execution_count": 81,
   "metadata": {},
   "outputs": [
    {
     "name": "stdout",
     "output_type": "stream",
     "text": [
      "Esperado: crime Resultado: crime\n",
      "Esperado: romance Resultado: romance\n",
      "Esperado: science fiction Resultado: science fiction\n",
      "Esperado: western Resultado: western\n",
      "Esperado: crime Resultado: science fiction\n",
      "Esperado: romance Resultado: romance\n",
      "Esperado: science fiction Resultado: science fiction\n",
      "Esperado: western Resultado: western\n",
      "Esperado: crime Resultado: crime\n",
      "Esperado: romance Resultado: romance\n",
      "Esperado: science fiction Resultado: science fiction\n",
      "Esperado: western Resultado: western\n",
      "Esperado: crime Resultado: crime\n",
      "Esperado: romance Resultado: romance\n",
      "Esperado: science fiction Resultado: science fiction\n",
      "Esperado: western Resultado: western\n",
      "Esperado: crime Resultado: crime\n",
      "Esperado: romance Resultado: romance\n",
      "Esperado: science fiction Resultado: crime\n"
     ]
    }
   ],
   "source": [
    "modelo_generos = train_g[19:]\n",
    "modelo_vectores = train_v[19:]\n",
    "for i in range(19):\n",
    "    vector = train_v[i]\n",
    "    genero_esperado = generos_list[train_g[i]]\n",
    "    print(\"Esperado: \" + genero_esperado + \" Resultado: \" + KNN(vector, modelo_generos, modelo_vectores, 10))"
   ]
  },
  {
   "cell_type": "markdown",
   "metadata": {},
   "source": [
    "##### Numpy"
   ]
  },
  {
   "cell_type": "code",
   "execution_count": 90,
   "metadata": {},
   "outputs": [],
   "source": [
    "def normaNumpy(vector):\n",
    "    return np.linalg.norm(vector)\n",
    "\n",
    "def distanciaCosenoNumpy(vectorA, vectorB):\n",
    "    vecA = vectorA - np.average(vectorA)\n",
    "    vecB = vectorB - np.average(vectorB)\n",
    "    if (normaNumpy(vecA) == 0 or normaNumpy(vecB) == 0):\n",
    "        return np.inf # preguntar\n",
    "    return 1 - (np.dot(vecA, vecB) / (normaNumpy(vecA) * normaNumpy(vecB)))"
   ]
  },
  {
   "cell_type": "code",
   "execution_count": 44,
   "metadata": {},
   "outputs": [],
   "source": [
    "def KVecinosNumpy(vector, modelo_generos, modelo_vectores, k):\n",
    "    vecinos = np.zeros((len(modelo_generos), 2))\n",
    "    vecinos[:, 0] = modelo_generos\n",
    "    vecinos[:, 1] = [distanciaCosenoNumpy(vector, x) for x in modelo_vectores]\n",
    "        \n",
    "    vecinos = vecinos[vecinos[:, 1].argsort()]\n",
    "    kvecinos = np.array(vecinos[:k, 0], dtype=int)\n",
    "    return kvecinos\n",
    "\n",
    "\n",
    "def KNNNumpy(vector, modelo_generos, modelo_vectores, k):\n",
    "    kvecinos = KVecinosNumpy(vector, modelo_generos, modelo_vectores, k)\n",
    "    return scipy.stats.mode(kvecinos).mode"
   ]
  },
  {
   "cell_type": "code",
   "execution_count": 82,
   "metadata": {},
   "outputs": [
    {
     "name": "stdout",
     "output_type": "stream",
     "text": [
      "Esperado: crime Resultado: crime\n",
      "Esperado: romance Resultado: romance\n",
      "Esperado: science fiction Resultado: science fiction\n",
      "Esperado: western Resultado: western\n",
      "Esperado: crime Resultado: science fiction\n",
      "Esperado: romance Resultado: romance\n",
      "Esperado: science fiction Resultado: romance\n",
      "Esperado: western Resultado: western\n",
      "Esperado: crime Resultado: western\n",
      "Esperado: romance Resultado: romance\n",
      "Esperado: science fiction Resultado: science fiction\n",
      "Esperado: western Resultado: western\n",
      "Esperado: crime Resultado: crime\n",
      "Esperado: romance Resultado: romance\n",
      "Esperado: science fiction Resultado: science fiction\n",
      "Esperado: western Resultado: western\n",
      "Esperado: crime Resultado: crime\n",
      "Esperado: romance Resultado: romance\n",
      "Esperado: science fiction Resultado: crime\n"
     ]
    }
   ],
   "source": [
    "modelo_generos = train_g[19:]\n",
    "modelo_vectores = train_v[19:]\n",
    "for i in range(19):\n",
    "    vector = train_v[i]\n",
    "    genero_esperado = generos_list[train_g[i]]\n",
    "    print(\"Esperado: \" + genero_esperado + \" Resultado: \" + generos_list[KNNNumpy(vector, modelo_generos, modelo_vectores, 10)])"
   ]
  },
  {
   "cell_type": "markdown",
   "metadata": {},
   "source": [
    "# Método de la potencia"
   ]
  },
  {
   "cell_type": "raw",
   "metadata": {
    "vscode": {
     "languageId": "raw"
    }
   },
   "source": [
    "                            ╱|、\n",
    "                          (˚ˎ 。7  \n",
    "                           |、˜〵          \n",
    "                          じしˍ,)ノ\n",
    "ฅ^•ﻌ•^ฅ"
   ]
  },
  {
   "cell_type": "markdown",
   "metadata": {},
   "source": [
    "##### Implementacion en C++ del metodo de la potencia con deflacion"
   ]
  },
  {
   "cell_type": "code",
   "execution_count": 23,
   "metadata": {},
   "outputs": [],
   "source": [
    "%%pybind11\n",
    "\n",
    "#include <iostream>\n",
    "#include <pybind11/numpy.h>\n",
    "#include <eigen3/Eigen/Dense>\n",
    "#include <pybind11/eigen.h>\n",
    "#include <math.h>\n",
    "#include <tuple>\n",
    "#include <vector>\n",
    "#include <pybind11/stl.h>\n",
    "\n",
    "using namespace std;\n",
    "using namespace Eigen;\n",
    "\n",
    "tuple<double, VectorXd, int> calcular_dominantes(const MatrixXd& matriz, const double tolerancia, const int limite_pasos) {\n",
    "    VectorXd v_old = VectorXd::Random(matriz.cols());\n",
    "    v_old = v_old / v_old.lpNorm<2>();\n",
    "    VectorXd v_new = VectorXd(matriz.cols());\n",
    "    double diff = 1000000.0;\n",
    "    int donde_termino = 0;\n",
    "    for (int i = 0; i < limite_pasos && diff > tolerancia; i++) { \n",
    "        v_new = (matriz*v_old) / (matriz*v_old).lpNorm<2>();\n",
    "        diff = (v_old - v_new).lpNorm<Infinity>();\n",
    "        v_old = v_new;\n",
    "        donde_termino++;\n",
    "    }\n",
    "    double autovalor = (v_old.transpose() * matriz * v_old)[0] / (v_old.transpose() * v_old)[0];\n",
    "    return {autovalor, v_old.normalized(), donde_termino};\n",
    "}\n",
    "\n",
    "void desinflar(MatrixXd& matriz, const double autoval, VectorXd autovec) {\n",
    "    matriz = matriz - autoval * autovec * autovec.transpose();\n",
    "}\n",
    "\n",
    "vector<tuple<double, VectorXd, int>> metodo_potencia_deflacion(const MatrixXd& matriz, const double tolerancia, const int limite_pasos) {\n",
    "    MatrixXd mat = matriz;\n",
    "    vector<tuple<double, VectorXd, int>> res = {};\n",
    "    for (int i = 0; i < mat.cols(); i++) {\n",
    "        tuple<double, VectorXd, int> doms;\n",
    "        //do {          // preguntar que onda el while\n",
    "        doms = calcular_dominantes(mat, tolerancia, limite_pasos);\n",
    "        //} while ((mat * get<1>(doms) - get<0>(doms) * get<1>(doms)).lpNorm<Infinity>() > tolerancia);\n",
    "        res.push_back(doms);\n",
    "\n",
    "        desinflar(mat, get<0>(doms), get<1>(doms));\n",
    "    }\n",
    "    return res;\n",
    "}\n",
    "\n",
    "PYBIND11_PLUGIN(metodo_potencia) {\n",
    "    py::module m(\"metodo_potencia_con_deflacion\");\n",
    "    m.def(\"metodo_potencia_deflacion\", [](const MatrixXd& matriz, const double tolerancia, const int limite_pasos) {\n",
    "        return metodo_potencia_deflacion(matriz, tolerancia, limite_pasos);\n",
    "    });\n",
    "    m.def(\"primeros_autos\", [](const MatrixXd& matriz, const double tolerancia, const int limite_pasos) {\n",
    "        return calcular_dominantes(matriz, tolerancia, limite_pasos);\n",
    "    });\n",
    "    return m.ptr();\n",
    "}"
   ]
  },
  {
   "cell_type": "markdown",
   "metadata": {},
   "source": [
    "##### Prueba de correctitud con Householder"
   ]
  },
  {
   "cell_type": "code",
   "execution_count": 24,
   "metadata": {},
   "outputs": [
    {
     "name": "stdout",
     "output_type": "stream",
     "text": [
      "Probando matriz 1\n",
      "Probando matriz 2\n",
      "Probando matriz 3\n",
      "Probando matriz 4\n",
      "Probando matriz 5\n",
      "Probando matriz 6\n",
      "Probando matriz 7\n",
      "Probando matriz 8\n",
      "Probando matriz 9\n",
      "Probando matriz 10\n",
      "Probando matriz 11\n",
      "Probando matriz 12\n",
      "Probando matriz 13\n",
      "Probando matriz 14\n",
      "Probando matriz 15\n",
      "Probando matriz 16\n",
      "Probando matriz 17\n",
      "Probando matriz 18\n",
      "Probando matriz 19\n",
      "Probando matriz 20\n",
      "Probando matriz 21\n",
      "Probando matriz 22\n",
      "Probando matriz 23\n",
      "Probando matriz 24\n",
      "Probando matriz 25\n",
      "Probando matriz 26\n",
      "Probando matriz 27\n",
      "Probando matriz 28\n",
      "Probando matriz 29\n",
      "Probando matriz 30\n",
      "Probando matriz 31\n",
      "Probando matriz 32\n",
      "Probando matriz 33\n",
      "Probando matriz 34\n",
      "Probando matriz 35\n",
      "Probando matriz 36\n",
      "Probando matriz 37\n",
      "Probando matriz 38\n",
      "Probando matriz 39\n",
      "Probando matriz 40\n",
      "Probando matriz 41\n",
      "Probando matriz 42\n",
      "Probando matriz 43\n",
      "Probando matriz 44\n",
      "Probando matriz 45\n",
      "Probando matriz 46\n",
      "Probando matriz 47\n",
      "Probando matriz 48\n",
      "Probando matriz 49\n",
      "Probando matriz 50\n",
      "Probando matriz 51\n",
      "Probando matriz 52\n",
      "Probando matriz 53\n",
      "Probando matriz 54\n",
      "Probando matriz 55\n",
      "Probando matriz 56\n",
      "Probando matriz 57\n",
      "Probando matriz 58\n",
      "Probando matriz 59\n",
      "Probando matriz 60\n",
      "Probando matriz 61\n",
      "Probando matriz 62\n",
      "Probando matriz 63\n",
      "Probando matriz 64\n",
      "Probando matriz 65\n",
      "Probando matriz 66\n",
      "Probando matriz 67\n",
      "Probando matriz 68\n",
      "Probando matriz 69\n",
      "Probando matriz 70\n",
      "Probando matriz 71\n",
      "Probando matriz 72\n",
      "Probando matriz 73\n",
      "Probando matriz 74\n",
      "Probando matriz 75\n",
      "Probando matriz 76\n",
      "Probando matriz 77\n",
      "Probando matriz 78\n",
      "Probando matriz 79\n",
      "Probando matriz 80\n",
      "Probando matriz 81\n",
      "Probando matriz 82\n",
      "Probando matriz 83\n",
      "Probando matriz 84\n",
      "Probando matriz 85\n",
      "Probando matriz 86\n",
      "Probando matriz 87\n",
      "Probando matriz 88\n",
      "Probando matriz 89\n",
      "Probando matriz 90\n",
      "Probando matriz 91\n",
      "Probando matriz 92\n",
      "Probando matriz 93\n",
      "Probando matriz 94\n",
      "Probando matriz 95\n",
      "Probando matriz 96\n",
      "Probando matriz 97\n",
      "Probando matriz 98\n",
      "Probando matriz 99\n",
      "Probando matriz 100\n",
      "Todas las matrices dieron bien!\n"
     ]
    }
   ],
   "source": [
    "n = 50\n",
    "for i in range(1, 101): \n",
    "    print(\"Probando matriz \" + str(i))\n",
    "    autovalores_esperados = np.array(range(n, 0, -1), dtype=np.float64) * i\n",
    "\n",
    "    D = np.diag(autovalores_esperados)\n",
    "    v = np.ones((n, 1))\n",
    "    v = v / np.linalg.norm(v)\n",
    "    H = np.eye(n) - 2 * (v @ v.T)\n",
    "    M = H @ D @ H.T\n",
    "    # M es simetrica y tiene autovalores l1 > l2 > ... > l50 > 0\n",
    "    # Asi que cumple los requisitos\n",
    "    \n",
    "    res = metodo_potencia_deflacion(M, 0.000000001, 1000000)\n",
    "\n",
    "    for j in range(n):\n",
    "        assert(np.isclose(autovalores_esperados[j], res[j][0]))\n",
    "        assert(np.allclose(H[j, :], res[j][1]) or np.allclose(H[j, :], res[j][1] * -1)) # Preguntar or\n",
    "        # Por la forma en la que lo construimos, la columna j de H es el autovector asociado al autovalor lj\n",
    "        # que al mismo tiempo es el elemento j de la diagonal D. Tambien por lo mismo ya estan normalizados\n",
    "        # y los que nos devuelve el algoritmo tambien estan normalizados, solo queda tener cuidado con\n",
    "        # que el sentido sea el opuesto.\n",
    "\n",
    "print(\"Todas las matrices dieron bien!\")\n"
   ]
  },
  {
   "cell_type": "markdown",
   "metadata": {},
   "source": [
    "##### Error y velocidad de convergencia"
   ]
  },
  {
   "cell_type": "code",
   "execution_count": 25,
   "metadata": {},
   "outputs": [
    {
     "name": "stdout",
     "output_type": "stream",
     "text": [
      "[720121, 31, 20, 31, 2]\n",
      "[336227, 32, 22, 29, 2]\n",
      "[138600, 29, 23, 26, 2]\n",
      "[52499, 31, 21, 30, 2]\n",
      "[23052, 30, 21, 34, 2]\n",
      "[9225, 27, 22, 30, 2]\n",
      "[2959, 28, 28, 32, 2]\n",
      "[1366, 32, 24, 28, 2]\n",
      "[466, 36, 23, 27, 2]\n",
      "[168, 32, 23, 29, 2]\n",
      "\n",
      "[(np.float64(1.0362964241851038e-08), np.float64(144041.0)), (np.float64(1.060908871794518e-08), np.float64(67262.4)), (np.float64(1.102723647653988e-08), np.float64(27736.0)), (np.float64(1.0090153872397741e-08), np.float64(10516.6)), (np.float64(1.1051168063741186e-08), np.float64(4627.8)), (np.float64(1.1175395930044718e-08), np.float64(1861.2)), (np.float64(1.0021594825507959e-08), np.float64(609.8)), (np.float64(1.0705687902850247e-08), np.float64(290.4)), (np.float64(9.900800555304429e-09), np.float64(110.8)), (np.float64(1.0682543809099758e-08), np.float64(50.8))]\n"
     ]
    }
   ],
   "source": [
    "# Todos los autovalores de una matriz o solo 1 ?\n",
    "epsilons = np.logspace(-4, 0, 10)\n",
    "vectorAdevolver = []\n",
    "for e in epsilons:\n",
    "\n",
    "    D = np.diag([10., 10. - e, 5., 2., 1.])\n",
    "    #v = np.random.rand(5) * 1000 # *1000 para no tener numeros muy chicos\n",
    "    v = np.ones((5, 1))\n",
    "    v = v / np.linalg.norm(v)\n",
    "    H = np.eye(5) - 2 * (v @ v.T)\n",
    "    M = H @ D @ H.T\n",
    "\n",
    "    valores = metodo_potencia_deflacion(M, 0.000000001, 1000000)\n",
    "\n",
    "    # Sacamos el error para cada autovalor y autovector\n",
    "    errores = [np.linalg.norm(M @ valores[i][1] - valores[i][0] * valores[i][1]) for i in range(len(valores))]\n",
    "    error_promedio = np.average(errores)\n",
    "    pasos = [valores[i][2] for i in range(len(valores))]\n",
    "    print(pasos)\n",
    "    pasos_promedio = np.average(pasos)\n",
    "    \n",
    "    errorYCantidadDePasos = (error_promedio, pasos_promedio)\n",
    "    vectorAdevolver.append(errorYCantidadDePasos)\n",
    "#que tiene sentido graficar ya que hay un numero que se hace demasiado grande rompe el promedio jaja saludos recurso\n",
    "print(\"\")\n",
    "print(vectorAdevolver)\n"
   ]
  },
  {
   "cell_type": "markdown",
   "metadata": {},
   "source": [
    "# PCA"
   ]
  },
  {
   "cell_type": "markdown",
   "metadata": {},
   "source": [
    "##### Matiz de covarianza"
   ]
  },
  {
   "cell_type": "code",
   "execution_count": 76,
   "metadata": {},
   "outputs": [
    {
     "data": {
      "text/plain": [
       "array([[0.77311599, 0.065279  , 0.03921003, ..., 0.06605643, 0.08195611,\n",
       "        0.0255047 ],\n",
       "       [0.065279  , 0.34020063, 0.02557367, ..., 0.08988088, 0.01988715,\n",
       "        0.0593605 ],\n",
       "       [0.03921003, 0.02557367, 1.03232288, ..., 0.01700313, 0.09670219,\n",
       "        0.04047649],\n",
       "       ...,\n",
       "       [0.06605643, 0.08988088, 0.01700313, ..., 0.31603762, 0.00198119,\n",
       "        0.03826959],\n",
       "       [0.08195611, 0.01988715, 0.09670219, ..., 0.00198119, 0.7375047 ,\n",
       "        0.02324765],\n",
       "       [0.0255047 , 0.0593605 , 0.04047649, ..., 0.03826959, 0.02324765,\n",
       "        1.06427586]])"
      ]
     },
     "execution_count": 76,
     "metadata": {},
     "output_type": "execute_result"
    }
   ],
   "source": [
    "def centrar(vec):\n",
    "    return vec - np.average(vec)\n",
    "\n",
    "X = np.apply_along_axis(centrar, axis=1, arr=train_vectores)\n",
    "X = X.T\n",
    "\n",
    "matriz_covarianza = (X.T @ X) / (X.shape[1] - 1)"
   ]
  },
  {
   "cell_type": "markdown",
   "metadata": {},
   "source": [
    "# Clasificacion"
   ]
  },
  {
   "cell_type": "markdown",
   "metadata": {},
   "source": [
    "##### Construccion de datos"
   ]
  },
  {
   "cell_type": "code",
   "execution_count": 77,
   "metadata": {},
   "outputs": [],
   "source": [
    "def construir_datos_training(tabla, cantidad_dimensiones):\n",
    "    tokens = np.hstack(tabla[\"tokens\"].apply(lambda x: x.split()).values)\n",
    "    unique_tokens = pd.Series(tokens).value_counts().index[:cantidad_dimensiones].values\n",
    "    unique_tokens_dict = dict(zip(unique_tokens, range(len(unique_tokens))))\n",
    "\n",
    "    tabla_matriz = np.zeros((len(tabla), len(unique_tokens)), dtype=int)\n",
    "    for i, row in tabla.iterrows():\n",
    "        for token in row[\"tokens\"].split():\n",
    "            if unique_tokens_dict.get(token,False)!=False:\n",
    "                tabla_matriz[i, unique_tokens_dict[token]] += 1\n",
    "\n",
    "    train_tabla = tabla.loc[tabla[\"split\"] == \"train\"].to_numpy()\n",
    "    train_generos = train_tabla[:, 5]\n",
    "    train_generos = [generos_dict[x] for x in train_generos]\n",
    "    train_vectores = np.zeros((len(train_generos), len(unique_tokens)), dtype=int)\n",
    "    for i in range(len(train_tabla)):\n",
    "        for token in train_tabla[i, 8].split():\n",
    "            if unique_tokens_dict.get(token,False) != False:\n",
    "                train_vectores[i, unique_tokens_dict[token]] += 1\n",
    "\n",
    "    # Horrible, preguntar como hacer\n",
    "    tempa = []\n",
    "    tempb = []\n",
    "    for i in range(int(len(train_generos)/4)):\n",
    "        for j in range(4):\n",
    "            tempa.append(train_generos[i + j*int(len(train_generos)/4)])\n",
    "            tempb.append(train_vectores[i + j*int(len(train_vectores)/4)])\n",
    "    train_generos = np.array(tempa)\n",
    "    train_vectores = np.array(tempb)\n",
    "\n",
    "    return train_generos, train_vectores"
   ]
  },
  {
   "cell_type": "markdown",
   "metadata": {},
   "source": [
    "##### Clasificador (renombre de KNN)"
   ]
  },
  {
   "cell_type": "code",
   "execution_count": 83,
   "metadata": {},
   "outputs": [],
   "source": [
    "def clasificar(vector, modelo_generos, modelo_vectores):\n",
    "    return KNNNumpy(vector, modelo_generos, modelo_vectores, 5)"
   ]
  },
  {
   "cell_type": "markdown",
   "metadata": {},
   "source": [
    "##### K-Fold pero sin K ni fold"
   ]
  },
  {
   "cell_type": "code",
   "execution_count": 121,
   "metadata": {},
   "outputs": [],
   "source": [
    "def performance_clasificador(tabla, cantidad_dimensiones):\n",
    "    generos, vectores = construir_datos_training(tabla, cantidad_dimensiones)\n",
    "\n",
    "    correctos = 0\n",
    "    tamano_particion = int(len(generos) / 5)\n",
    "    # modelo_generos = generos[tamano_particion:]\n",
    "    # modelo_vectores = vectores[tamano_particion:]\n",
    "    modelo_generos = generos[:len(generos) - tamano_particion]\n",
    "    modelo_vectores = vectores[:len(vectores) - tamano_particion]\n",
    "\n",
    "    # preguntar si esta bien usar una sola particion siendo que hay tanta diferencia entre cual se elige\n",
    "    # tarda el quintuple con la ultima particion que con la primera ??????\n",
    "\n",
    "    # for i in range(tamano_particion):\n",
    "    for i in range(tamano_particion, len(generos)):\n",
    "        vector = vectores[i]\n",
    "        genero_esperado = generos[i]\n",
    "        genero_res = clasificar(vector, modelo_generos, modelo_vectores)\n",
    "        if genero_esperado == genero_res:\n",
    "            correctos = correctos + 1\n",
    "    return correctos / len(generos)"
   ]
  },
  {
   "cell_type": "code",
   "execution_count": 122,
   "metadata": {},
   "outputs": [
    {
     "data": {
      "text/plain": [
       "[0.60625, 0.628125, 0.63125]"
      ]
     },
     "execution_count": 122,
     "metadata": {},
     "output_type": "execute_result"
    }
   ],
   "source": [
    "performances = [performance_clasificador(tabla, q) for q in [500, 1000, 5000]]\n",
    "performances"
   ]
  },
  {
   "cell_type": "markdown",
   "metadata": {},
   "source": [
    "##### K-Fold"
   ]
  },
  {
   "cell_type": "code",
   "execution_count": 128,
   "metadata": {},
   "outputs": [],
   "source": [
    "def kfold(tabla, cantidad_dimensiones, particiones, vecinos):\n",
    "    generos, vectores = construir_datos_training(tabla, cantidad_dimensiones)\n",
    "\n",
    "    correctos = 0\n",
    "    tamano_particion = int(len(generos) / particiones)\n",
    "    for i in range(particiones):\n",
    "        azul_start = i * tamano_particion\n",
    "        azul_end = i * tamano_particion + tamano_particion\n",
    "        modelo_generos = np.concatenate((generos[:azul_start], generos[azul_end:]))\n",
    "        modelo_vectores = np.concatenate((vectores[:azul_start], vectores[azul_end:]))\n",
    "        for j in range(azul_start, azul_end):\n",
    "            vector = vectores[j]\n",
    "            genero_esperado = generos[j]\n",
    "            genero_res = KNNNumpy(vector, modelo_generos, modelo_vectores, vecinos)\n",
    "            if genero_esperado == genero_res:\n",
    "                correctos = correctos + 1\n",
    "    return correctos / len(generos)"
   ]
  },
  {
   "cell_type": "code",
   "execution_count": 137,
   "metadata": {},
   "outputs": [
    {
     "name": "stdout",
     "output_type": "stream",
     "text": [
      "[[0.66875  0.65625  0.6625  ]\n",
      " [0.646875 0.653125 0.65625 ]\n",
      " [0.68125  0.7125   0.678125]\n",
      " [0.7125   0.728125 0.728125]\n",
      " [0.71875  0.721875 0.725   ]\n",
      " [0.73125  0.7375   0.740625]\n",
      " [0.746875 0.740625 0.75625 ]\n",
      " [0.765625 0.734375 0.765625]\n",
      " [0.740625 0.746875 0.78125 ]\n",
      " [0.75625  0.775    0.7875  ]\n",
      " [0.734375 0.7625   0.778125]\n",
      " [0.75     0.75     0.784375]\n",
      " [0.740625 0.759375 0.7875  ]\n",
      " [0.7375   0.753125 0.796875]\n",
      " [0.734375 0.7625   0.790625]\n",
      " [0.75     0.75     0.790625]\n",
      " [0.740625 0.75625  0.79375 ]\n",
      " [0.734375 0.734375 0.8     ]\n",
      " [0.734375 0.7375   0.8     ]\n",
      " [0.746875 0.746875 0.803125]]\n"
     ]
    }
   ],
   "source": [
    "resultados = np.zeros((20, 3))\n",
    "for k in range(1, 21):\n",
    "    performances = [kfold(tabla, q, 4, k) for q in [500, 1000, 5000]]\n",
    "    resultados[k-1, :] = performances\n",
    "print(resultados)"
   ]
  }
 ],
 "metadata": {
  "kernelspec": {
   "display_name": ".venv",
   "language": "python",
   "name": "python3"
  },
  "language_info": {
   "codemirror_mode": {
    "name": "ipython",
    "version": 3
   },
   "file_extension": ".py",
   "mimetype": "text/x-python",
   "name": "python",
   "nbconvert_exporter": "python",
   "pygments_lexer": "ipython3",
   "version": "3.10.15"
  }
 },
 "nbformat": 4,
 "nbformat_minor": 2
}
